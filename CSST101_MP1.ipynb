{
  "nbformat": 4,
  "nbformat_minor": 0,
  "metadata": {
    "colab": {
      "provenance": [],
      "authorship_tag": "ABX9TyNzRXCJ8C1tvchwkk9FWZkF",
      "include_colab_link": true
    },
    "kernelspec": {
      "name": "python3",
      "display_name": "Python 3"
    },
    "language_info": {
      "name": "python"
    }
  },
  "cells": [
    {
      "cell_type": "markdown",
      "metadata": {
        "id": "view-in-github",
        "colab_type": "text"
      },
      "source": [
        "<a href=\"https://colab.research.google.com/github/johnchristiancoronacion/IS101-Advanced-Presentation-and-Reasoning/blob/main/CSST101_MP1.ipynb\" target=\"_parent\"><img src=\"https://colab.research.google.com/assets/colab-badge.svg\" alt=\"Open In Colab\"/></a>"
      ]
    },
    {
      "cell_type": "code",
      "execution_count": 36,
      "metadata": {
        "id": "VAOI7eoCb2rl"
      },
      "outputs": [],
      "source": [
        "import csv\n",
        "from datetime import datetime"
      ]
    },
    {
      "cell_type": "code",
      "source": [
        "def impl(P, Q):\n",
        "  return (not P) or Q\n",
        "\n",
        "def tf(b: bool) -> str:\n",
        "  return \"T\" if b else \"F\""
      ],
      "metadata": {
        "id": "XEROAo3rcOY3"
      },
      "execution_count": 37,
      "outputs": []
    },
    {
      "cell_type": "code",
      "source": [
        "def log_result(student_name, rule_name, result):\n",
        "    with open(\"logic_results.csv\", \"a\", newline=\"\") as file:\n",
        "      writer = csv.writer(file)\n",
        "      writer.writerow([datetime.now().strftime(\"%Y-%m-%d %H:%M:%S\"), student_name, rule_name, result])"
      ],
      "metadata": {
        "id": "-r3qWm3YhdED"
      },
      "execution_count": 38,
      "outputs": []
    },
    {
      "cell_type": "code",
      "source": [
        "def attendance_rule(student_name):\n",
        "  print(\"\\n--- Attendance Rule Checker ---\")\n",
        "  late = input(\"Is the student late? (T/F): \").strip().upper() == \"T\"\n",
        "  excuse = input(\"Did the student bring an excuse letter? (T/F):\" ).strip().upper() == \"T\"\n",
        "\n",
        "  result = impl(late, excuse)\n",
        "  outcome = \"Satisfied ✔️\" if result else \"Violated ❌\"\n",
        "\n",
        "  print(f\"P = {tf(late)} (Late), Q = {tf(excuse)} (Excuse Letter)\")\n",
        "  print(\"Result:\", outcome)\n",
        "\n",
        "  log_result(student_name, \"Attendance Rule\", outcome)"
      ],
      "metadata": {
        "id": "Q7Sx4Fg2jWxS"
      },
      "execution_count": 39,
      "outputs": []
    },
    {
      "cell_type": "code",
      "source": [
        "def grading_rule(student_name):\n",
        "  print(\"\\n--- Grading Rule Checker ---\")\n",
        "  try:\n",
        "    grade = float(input(\"Enter student grade: \"))\n",
        "  except ValueError:\n",
        "    print(\"Invalid grade input.\")\n",
        "    return\n",
        "\n",
        "  P = grade >= 75\n",
        "  Q = grade >= 75 # pass if ≥75\n",
        "  result = impl(P, Q)\n",
        "  outcome = \"Satisfied ✔️\" if result else \"Violated ❌\"\n",
        "\n",
        "  print(f\" {tf(P)} (grade ≥ 75), Q = {tf(Q)} (student passes)\")\n",
        "  print(\"Result:\", outcome)\n",
        "\n",
        "  log_result(student_name, \"Grading Rule\", outcome)"
      ],
      "metadata": {
        "id": "CJGpH7aVjowB"
      },
      "execution_count": 40,
      "outputs": []
    },
    {
      "cell_type": "code",
      "source": [
        "def login_rule(student_name):\n",
        "  print(\"\\n--- Login Rule Checker ---\")\n",
        "  correct_password = \"admin123\"\n",
        "  attempt = input(\"Enter password: \")\n",
        "\n",
        "  P = (attempt == correct_password) #Password correct?\n",
        "  result = impl(P, Q)\n",
        "  outcome = \"Access granted ✔️\" if result else \"Access denied ❌\"\n",
        "\n",
        "  print(f\"P = {tf(P)} (Password Correct), Q = {tf(Q)} (Access Granted)\")\n",
        "  print(\"Result:\", outcome)\n",
        "\n",
        "  log_result(student_name, \"Login Rule\", outcome)"
      ],
      "metadata": {
        "id": "Z0sInqOWjuKg"
      },
      "execution_count": 41,
      "outputs": []
    },
    {
      "cell_type": "code",
      "source": [
        "def bonus_rule(student_name):\n",
        "  print(f\"\\n--- {student_name}'s Bonus Point Eligibility Checker ---\")\n",
        "  try:\n",
        "    regular = input(\"Does the student have regular attendance? (T/F): \").strip().upper() == \"T\"\n",
        "  except (KeyboardInterrupt, EOFError):\n",
        "    return\n",
        "\n",
        "  bonus = \"regular is eligible\" if regular else \"Violated\"\n",
        "  result = impl(regular, bonus)\n",
        "  outcome = \"Satisfied ✅\" if result else \"Violated ❌\"\n",
        "\n",
        "  print(f\"P = {tf(regular)} (Regular Attendance), Q = {tf(bonus)} (Bonus Eligible)\")\n",
        "  print(\"Result:\", outcome)\n",
        "\n",
        "  log_result(student_name, \"Bonus Rule\", outcome)"
      ],
      "metadata": {
        "id": "hHiC6BMoj0DJ"
      },
      "execution_count": 42,
      "outputs": []
    },
    {
      "cell_type": "code",
      "source": [
        "#---Rule 4: Bonus Points---\n",
        "def bonus_rule(student_name):\n",
        "  print(f\"\\n--- {student_name}'s Bonus Point Eligibility Checker ---\")\n",
        "  try:\n",
        "    regular = input(\"Does the student have regular attendance? (T/F): \").strip().upper() == \"T\"\n",
        "  except (KeyboardInterrupt, EOFError):\n",
        "    return\n",
        "\n",
        "  bonus = \"regular is eligible\" if regular else \"Violated\"\n",
        "  result = impl(regular, bonus)\n",
        "  outcome = \"Satisfied ✅\" if result else \"Violated ❌\"\n",
        "\n",
        "  print(f\"P = {tf(regular)} (Regular Attendance), Q = {tf(bonus)} (Bonus Eligible)\")\n",
        "  print(\"Result:\", outcome)\n",
        "\n",
        "  log_result(student_name, \"Bonus Rule\", outcome)\n",
        "\n",
        "# -----Main Menu-----\n",
        "def main():\n",
        "  print(\"--- University Logic Rules System ---\")\n",
        "  student_name = input(\"Enter student name: \").strip()\n",
        "\n",
        "  while True:\n",
        "    print(\"\\n\\n======== Main Menu ========\")\n",
        "    print(\"1) Attendance Rule Checker\")\n",
        "    print(\"2) Grading Rule Checker\")\n",
        "    print(\"3) Login Rule Checker\")\n",
        "    print(\"4) Bonus Points Checker\")\n",
        "    print(\"5) Exit\")\n",
        "\n",
        "    choice = input(\"Choose an option (1-5): \").strip()\n",
        "\n",
        "    if choice == \"1\":\n",
        "      attendance_rule(student_name)\n",
        "    elif choice == \"2\":\n",
        "      grading_rule(student_name)\n",
        "    elif choice == \"3\":\n",
        "      login_rule(student_name)\n",
        "    elif choice == \"4\":\n",
        "      bonus_rule(student_name)\n",
        "    elif choice == \"5\":\n",
        "      print(\"Exiting...\")\n",
        "      print(\"Results saved to logic_results.csv\")\n",
        "      break\n",
        "    else:\n",
        "      print(\"Invalid choice. Try again.\")\n",
        "\n",
        "if __name__ == \"__main__\":\n",
        "  # Create CSV with headers if not exists\n",
        "  with open(\"logic_results.csv\", \"a+\", newline=\"\") as file:\n",
        "    file.seek(0, 2)\n",
        "    if file.tell() == 0:\n",
        "      writer = csv.writer(file)\n",
        "      writer.writerow([\"Timestamp\", \"Student Name\", \"Rule\", \"Outcome\"])\n",
        "    main()\n"
      ],
      "metadata": {
        "colab": {
          "base_uri": "https://localhost:8080/"
        },
        "id": "DbRKiIsVj9TI",
        "outputId": "484f7ddc-9ef1-42dc-ea99-a1bfdfd7d758"
      },
      "execution_count": null,
      "outputs": [
        {
          "output_type": "stream",
          "name": "stdout",
          "text": [
            "--- University Logic Rules System ---\n"
          ]
        }
      ]
    }
  ]
}